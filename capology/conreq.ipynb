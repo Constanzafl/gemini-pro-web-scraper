{
 "cells": [
  {
   "cell_type": "code",
   "execution_count": null,
   "metadata": {},
   "outputs": [],
   "source": [
    "import requests\n",
    "from bs4 import BeautifulSoup\n",
    "\n",
    "def scrape_capology(url):\n",
    "    response = requests.get(url)\n",
    "    response.raise_for_status()  # Raise an exception for bad status codes\n",
    "\n",
    "    soup = BeautifulSoup(response.content, 'html.parser')\n",
    "\n",
    "    # Encuentra el elemento por id\n",
    "    weekly_payroll_element = soup.find('h1', id='weekly-payroll')\n",
    "    \n",
    "    if weekly_payroll_element:\n",
    "        weekly_avg = weekly_payroll_element.text.strip()\n",
    "        return weekly_avg\n",
    "    else:\n",
    "        return \"Elemento no encontrado\"\n",
    "\n",
    "# URL de ejemplo\n",
    "url = 'https://www.capology.com/club/belgrano/salaries/2024/'\n",
    "weekly_avg = scrape_capology(url)\n",
    "print(weekly_avg)"
   ]
  },
  {
   "cell_type": "code",
   "execution_count": null,
   "metadata": {},
   "outputs": [],
   "source": [
    "import requests\n",
    "from bs4 import BeautifulSoup\n",
    "\n",
    "def scrape_capology(url):\n",
    "    try:\n",
    "        response = requests.get(url)\n",
    "        response.raise_for_status()  # Raise an exception for bad status codes\n",
    "\n",
    "        soup = BeautifulSoup(response.content, 'html.parser')\n",
    "\n",
    "        # Encuentra el elemento usando el selector CSS\n",
    "        element = soup.select_one('#panel > div.content-block > div.row > div:nth-child(2) > div:nth-child(2) > div > h6:nth-child(2)')\n",
    "        \n",
    "        if element:\n",
    "            value = element.text.strip()\n",
    "            return value\n",
    "        else:\n",
    "            return \"Elemento no encontrado\"\n",
    "\n",
    "    except requests.exceptions.RequestException as e:\n",
    "        return f\"Error en la solicitud: {e}\"\n",
    "\n",
    "# URL de ejemplo\n",
    "url = 'https://www.capology.com/club/belgrano/salaries/2024/'\n",
    "value = scrape_capology(url)\n",
    "print(value)\n"
   ]
  }
 ],
 "metadata": {
  "language_info": {
   "name": "python"
  }
 },
 "nbformat": 4,
 "nbformat_minor": 2
}
