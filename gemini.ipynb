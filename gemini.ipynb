{
 "cells": [
  {
   "cell_type": "code",
   "execution_count": null,
   "metadata": {},
   "outputs": [],
   "source": [
    "#! pip3 install --upgrade --user google-cloud-aiplatform"
   ]
  },
  {
   "cell_type": "code",
   "execution_count": 15,
   "metadata": {},
   "outputs": [],
   "source": [
    "import re\n",
    "import pandas as pd\n",
    "import vertexai \n",
    "from vertexai.generative_models import GenerationConfig, GenerativeModel, Image, Part\n",
    "import vertexai.preview.generative_models as generative_models \n",
    "import sys\n",
    "import os\n",
    "from dotenv import load_dotenv #en el env esta la api"
   ]
  },
  {
   "cell_type": "code",
   "execution_count": 4,
   "metadata": {},
   "outputs": [],
   "source": [
    "# Define project information\n",
    "PROJECT_ID = \"ldp-data-genai-producto\"  # @param {type:\"string\"}\n",
    "LOCATION = \"us-central1\"  # @param {type:\"string\"}\n",
    "\n",
    "\n",
    "vertexai.init(project=PROJECT_ID, location=LOCATION)"
   ]
  },
  {
   "cell_type": "code",
   "execution_count": 5,
   "metadata": {},
   "outputs": [],
   "source": [
    "model = GenerativeModel(\"gemini-1.5-flash-001\")"
   ]
  },
  {
   "cell_type": "code",
   "execution_count": 6,
   "metadata": {},
   "outputs": [],
   "source": [
    "safety_settings = {\n",
    "    generative_models.HarmCategory.HARM_CATEGORY_HATE_SPEECH: generative_models.HarmBlockThreshold.BLOCK_MEDIUM_AND_ABOVE,\n",
    "    generative_models.HarmCategory.HARM_CATEGORY_DANGEROUS_CONTENT: generative_models.HarmBlockThreshold.BLOCK_MEDIUM_AND_ABOVE,\n",
    "    generative_models.HarmCategory.HARM_CATEGORY_SEXUALLY_EXPLICIT: generative_models.HarmBlockThreshold.BLOCK_MEDIUM_AND_ABOVE,\n",
    "    generative_models.HarmCategory.HARM_CATEGORY_HARASSMENT: generative_models.HarmBlockThreshold.BLOCK_MEDIUM_AND_ABOVE,\n",
    "}"
   ]
  },
  {
   "cell_type": "code",
   "execution_count": 7,
   "metadata": {},
   "outputs": [],
   "source": [
    "generation_config =GenerationConfig(\n",
    "    temperature=0,\n",
    "    top_p=0.8,\n",
    "    max_output_tokens=8192,\n",
    ")"
   ]
  },
  {
   "cell_type": "code",
   "execution_count": 8,
   "metadata": {},
   "outputs": [
    {
     "name": "stdout",
     "output_type": "stream",
     "text": [
      "[['club_name', 'url', 'element_id', 'value'], ['', 'https://www.capology.comClub', 'weekly-avg', 'Error: Message: unknown error: net::ERR_NAME_NOT_RESOLVED\\n  (Session info: chrome=128.0.6613.114)\\nStacktrace:\\n\\tGetHandleVerifier [0x005C8213+26163]\\n\\t(No symbol) [0x00559CC4]\\n\\t(No symbol) [0x004524C3]\\n\\t(No symbol) [0x0044AAD1]\\n\\t(No symbol) [0x0043E668]\\n\\t(No symbol) [0x0044008B]\\n\\t(No symbol) [0x0043E8B7]\\n\\t(No symbol) [0x0043E25C]\\n\\t(No symbol) [0x0043E188]\\n\\t(No symbol) [0x0043C588]\\n\\t(No symbol) [0x0043CB1B]\\n\\t(No symbol) [0x00454F04]\\n\\t(No symbol) [0x004D5107]\\n\\t(No symbol) [0x004BACBC]\\n\\t(No symbol) [0x004D4661]\\n\\t(No symbol) [0x004BAA56]\\n\\t(No symbol) [0x0048BE89]\\n\\t(No symbol) [0x0048C8CD]\\n\\tGetHandleVerifier [0x0089D313+2996019]\\n\\tGetHandleVerifier [0x008F1B89+3342249]\\n\\tGetHandleVerifier [0x00657AEF+614159]\\n\\tGetHandleVerifier [0x0065F17C+644508]\\n\\t(No symbol) [0x005627FD]\\n\\t(No symbol) [0x0055F6F8]\\n\\t(No symbol) [0x0055F895]\\n\\t(No symbol) [0x00551C16]\\n\\tBaseThreadInitThunk [0x76E77BA9+25]\\n\\tRtlInitializeExceptionChain [0x7783C10B+107]\\n\\tRtlClearBits [0x7783C08F+191]\\n'], ['', 'https://www.capology.comClub', 'annual-avg', 'Error: Message: unknown error: net::ERR_NAME_NOT_RESOLVED\\n  (Session info: chrome=128.0.6613.114)\\nStacktrace:\\n\\tGetHandleVerifier [0x005C8213+26163]\\n\\t(No symbol) [0x00559CC4]\\n\\t(No symbol) [0x004524C3]\\n\\t(No symbol) [0x0044AAD1]\\n\\t(No symbol) [0x0043E668]\\n\\t(No symbol) [0x0044008B]\\n\\t(No symbol) [0x0043E8B7]\\n\\t(No symbol) [0x0043E25C]\\n\\t(No symbol) [0x0043E188]\\n\\t(No symbol) [0x0043C588]\\n\\t(No symbol) [0x0043CB1B]\\n\\t(No symbol) [0x00454F04]\\n\\t(No symbol) [0x004D5107]\\n\\t(No symbol) [0x004BACBC]\\n\\t(No symbol) [0x004D4661]\\n\\t(No symbol) [0x004BAA56]\\n\\t(No symbol) [0x0048BE89]\\n\\t(No symbol) [0x0048C8CD]\\n\\tGetHandleVerifier [0x0089D313+2996019]\\n\\tGetHandleVerifier [0x008F1B89+3342249]\\n\\tGetHandleVerifier [0x00657AEF+614159]\\n\\tGetHandleVerifier [0x0065F17C+644508]\\n\\t(No symbol) [0x005627FD]\\n\\t(No symbol) [0x0055F6F8]\\n\\t(No symbol) [0x0055F895]\\n\\t(No symbol) [0x00551C16]\\n\\tBaseThreadInitThunk [0x76E77BA9+25]\\n\\tRtlInitializeExceptionChain [0x7783C10B+107]\\n\\tRtlClearBits [0x7783C08F+191]\\n'], ['', 'https://www.capology.com/club/argentinos-juniors/salaries/2024/', 'weekly-avg', '$3,495'], ['', 'https://www.capology.com/club/argentinos-juniors/salaries/2024/', 'annual-avg', '$181,724'], ['', 'https://www.capology.com/club/banfield/salaries/2024/', 'weekly-avg', '$3,306'], ['', 'https://www.capology.com/club/banfield/salaries/2024/', 'annual-avg', '$171,935'], ['', 'https://www.capology.com/club/barracas/salaries/2024/', 'weekly-avg', '$3,481'], ['', 'https://www.capology.com/club/barracas/salaries/2024/', 'annual-avg', '$181,000'], ['', 'https://www.capology.com/club/belgrano/salaries/2024/', 'weekly-avg', '$4,596'], ['', 'https://www.capology.com/club/belgrano/salaries/2024/', 'annual-avg', '$239,000'], ['', 'https://www.capology.com/club/boca-juniors/salaries/2024/', 'weekly-avg', '$13,631'], ['', 'https://www.capology.com/club/boca-juniors/salaries/2024/', 'annual-avg', '$708,824'], ['', 'https://www.capology.com/club/central-cordoba/salaries/2024/', 'weekly-avg', '$3,099'], ['', 'https://www.capology.com/club/central-cordoba/salaries/2024/', 'annual-avg', '$161,143'], ['', 'https://www.capology.com/club/defensa-y-justicia/salaries/2024/', 'weekly-avg', '$3,784'], ['', 'https://www.capology.com/club/defensa-y-justicia/salaries/2024/', 'annual-avg', '$196,774'], ['', 'https://www.capology.com/club/estudiantes/salaries/2024/', 'weekly-avg', '$10,451'], ['', 'https://www.capology.com/club/estudiantes/salaries/2024/', 'annual-avg', '$543,462'], ['', 'https://www.capology.com/club/gimnasia-la-plata/salaries/2024/', 'weekly-avg', '$4,423'], ['', 'https://www.capology.com/club/gimnasia-la-plata/salaries/2024/', 'annual-avg', '$230,000'], ['', 'https://www.capology.com/club/godoy-cruz/salaries/2024/', 'weekly-avg', '$4,000'], ['', 'https://www.capology.com/club/godoy-cruz/salaries/2024/', 'annual-avg', '$208,000'], ['', 'https://www.capology.com/club/huracan/salaries/2024/', 'weekly-avg', '$6,026'], ['', 'https://www.capology.com/club/huracan/salaries/2024/', 'annual-avg', '$313,333'], ['', 'https://www.capology.com/club/independiente/salaries/2024/', 'weekly-avg', '$5,498'], ['', 'https://www.capology.com/club/independiente/salaries/2024/', 'annual-avg', '$285,882'], ['', 'https://www.capology.com/club/instituto/salaries/2024/', 'weekly-avg', '$4,731'], ['', 'https://www.capology.com/club/instituto/salaries/2024/', 'annual-avg', '$246,000'], ['', 'https://www.capology.com/club/lanus/salaries/2024/', 'weekly-avg', '$7,208'], ['', 'https://www.capology.com/club/lanus/salaries/2024/', 'annual-avg', '$374,800'], ['', 'https://www.capology.com/club/newells-old-boys/salaries/2024/', 'weekly-avg', '$5,570'], ['', 'https://www.capology.com/club/newells-old-boys/salaries/2024/', 'annual-avg', '$289,615'], ['', 'https://www.capology.com/club/platense/salaries/2024/', 'weekly-avg', '$3,347'], ['', 'https://www.capology.com/club/platense/salaries/2024/', 'annual-avg', '$174,063'], ['', 'https://www.capology.com/club/racing-club/salaries/2024/', 'weekly-avg', '$10,110'], ['', 'https://www.capology.com/club/racing-club/salaries/2024/', 'annual-avg', '$525,714'], ['', 'https://www.capology.com/club/riestra/salaries/2024/', 'weekly-avg', '$2,145'], ['', 'https://www.capology.com/club/riestra/salaries/2024/', 'annual-avg', '$111,515'], ['', 'https://www.capology.com/club/rivadavia/salaries/2024/', 'weekly-avg', '$2,849'], ['', 'https://www.capology.com/club/rivadavia/salaries/2024/', 'annual-avg', '$148,125'], ['', 'https://www.capology.com/club/river-plate/salaries/2024/', 'weekly-avg', '$18,993'], ['', 'https://www.capology.com/club/river-plate/salaries/2024/', 'annual-avg', '$987,656'], ['', 'https://www.capology.com/club/rosario-central/salaries/2024/', 'weekly-avg', '$6,147'], ['', 'https://www.capology.com/club/rosario-central/salaries/2024/', 'annual-avg', '$319,655'], ['', 'https://www.capology.com/club/san-lorenzo/salaries/2024/', 'weekly-avg', '$7,877'], ['', 'https://www.capology.com/club/san-lorenzo/salaries/2024/', 'annual-avg', '$409,615'], ['', 'https://www.capology.com/club/sarmiento/salaries/2024/', 'weekly-avg', '$4,572'], ['', 'https://www.capology.com/club/sarmiento/salaries/2024/', 'annual-avg', '$237,742'], ['', 'https://www.capology.com/club/talleres/salaries/2024/', 'weekly-avg', '$6,168'], ['', 'https://www.capology.com/club/talleres/salaries/2024/', 'annual-avg', '$320,714'], ['', 'https://www.capology.com/club/tigre/salaries/2024/', 'weekly-avg', '$3,906'], ['', 'https://www.capology.com/club/tigre/salaries/2024/', 'annual-avg', '$203,103'], ['', 'https://www.capology.com/club/tucuman/salaries/2024/', 'weekly-avg', '$3,661'], ['', 'https://www.capology.com/club/tucuman/salaries/2024/', 'annual-avg', '$190,370'], ['', 'https://www.capology.com/club/union/salaries/2024/', 'weekly-avg', '$4,371'], ['', 'https://www.capology.com/club/union/salaries/2024/', 'annual-avg', '$227,308'], ['', 'https://www.capology.com/club/velez-sarsfield/salaries/2024/', 'weekly-avg', '$10,371'], ['', 'https://www.capology.com/club/velez-sarsfield/salaries/2024/', 'annual-avg', '$539,310']]\n"
     ]
    }
   ],
   "source": [
    "import csv\n",
    "\n",
    "# Leer el archivo CSV en una lista de listas\n",
    "with open('club_salaries.csv', mode='r') as file:\n",
    "    reader = csv.reader(file)\n",
    "    data = [row for row in reader]\n",
    "\n",
    "# Ahora data es una variable que contiene la lista de listas\n",
    "print(data)"
   ]
  },
  {
   "cell_type": "code",
   "execution_count": 9,
   "metadata": {},
   "outputs": [
    {
     "name": "stdout",
     "output_type": "stream",
     "text": [
      "club_name,url,element_id,value\n",
      ",https://www.capology.comClub,weekly-avg,\"Error: Message: unknown error: net::ERR_NAME_NOT_RESOLVED\n",
      "  (Session info: chrome=128.0.6613.114)\n",
      "Stacktrace:\n",
      "\tGetHandleVerifier [0x005C8213+26163]\n",
      "\t(No symbol) [0x00559CC4]\n",
      "\t(No symbol) [0x004524C3]\n",
      "\t(No symbol) [0x0044AAD1]\n",
      "\t(No symbol) [0x0043E668]\n",
      "\t(No symbol) [0x0044008B]\n",
      "\t(No symbol) [0x0043E8B7]\n",
      "\t(No symbol) [0x0043E25C]\n",
      "\t(No symbol) [0x0043E188]\n",
      "\t(No symbol) [0x0043C588]\n",
      "\t(No symbol) [0x0043CB1B]\n",
      "\t(No symbol) [0x00454F04]\n",
      "\t(No symbol) [0x004D5107]\n",
      "\t(No symbol) [0x004BACBC]\n",
      "\t(No symbol) [0x004D4661]\n",
      "\t(No symbol) [0x004BAA56]\n",
      "\t(No symbol) [0x0048BE89]\n",
      "\t(No symbol) [0x0048C8CD]\n",
      "\tGetHandleVerifier [0x0089D313+2996019]\n",
      "\tGetHandleVerifier [0x008F1B89+3342249]\n",
      "\tGetHandleVerifier [0x00657AEF+614159]\n",
      "\tGetHandleVerifier [0x0065F17C+644508]\n",
      "\t(No symbol) [0x005627FD]\n",
      "\t(No symbol) [0x0055F6F8]\n",
      "\t(No symbol) [0x0055F895]\n",
      "\t(No symbol) [0x00551C16]\n",
      "\tBaseThreadInitThunk [0x76E77BA9+25]\n",
      "\tRtlInitializeExceptionChain [0x7783C10B+107]\n",
      "\tRtlClearBits [0x7783C08F+191]\n",
      "\"\n",
      ",https://www.capology.comClub,annual-avg,\"Error: Message: unknown error: net::ERR_NAME_NOT_RESOLVED\n",
      "  (Session info: chrome=128.0.6613.114)\n",
      "Stacktrace:\n",
      "\tGetHandleVerifier [0x005C8213+26163]\n",
      "\t(No symbol) [0x00559CC4]\n",
      "\t(No symbol) [0x004524C3]\n",
      "\t(No symbol) [0x0044AAD1]\n",
      "\t(No symbol) [0x0043E668]\n",
      "\t(No symbol) [0x0044008B]\n",
      "\t(No symbol) [0x0043E8B7]\n",
      "\t(No symbol) [0x0043E25C]\n",
      "\t(No symbol) [0x0043E188]\n",
      "\t(No symbol) [0x0043C588]\n",
      "\t(No symbol) [0x0043CB1B]\n",
      "\t(No symbol) [0x00454F04]\n",
      "\t(No symbol) [0x004D5107]\n",
      "\t(No symbol) [0x004BACBC]\n",
      "\t(No symbol) [0x004D4661]\n",
      "\t(No symbol) [0x004BAA56]\n",
      "\t(No symbol) [0x0048BE89]\n",
      "\t(No symbol) [0x0048C8CD]\n",
      "\tGetHandleVerifier [0x0089D313+2996019]\n",
      "\tGetHandleVerifier [0x008F1B89+3342249]\n",
      "\tGetHandleVerifier [0x00657AEF+614159]\n",
      "\tGetHandleVerifier [0x0065F17C+644508]\n",
      "\t(No symbol) [0x005627FD]\n",
      "\t(No symbol) [0x0055F6F8]\n",
      "\t(No symbol) [0x0055F895]\n",
      "\t(No symbol) [0x00551C16]\n",
      "\tBaseThreadInitThunk [0x76E77BA9+25]\n",
      "\tRtlInitializeExceptionChain [0x7783C10B+107]\n",
      "\tRtlClearBits [0x7783C08F+191]\n",
      "\"\n",
      ",https://www.capology.com/club/argentinos-juniors/salaries/2024/,weekly-avg,\"$3,495\"\n",
      ",https://www.capology.com/club/argentinos-juniors/salaries/2024/,annual-avg,\"$181,724\"\n",
      ",https://www.capology.com/club/banfield/salaries/2024/,weekly-avg,\"$3,306\"\n",
      ",https://www.capology.com/club/banfield/salaries/2024/,annual-avg,\"$171,935\"\n",
      ",https://www.capology.com/club/barracas/salaries/2024/,weekly-avg,\"$3,481\"\n",
      ",https://www.capology.com/club/barracas/salaries/2024/,annual-avg,\"$181,000\"\n",
      ",https://www.capology.com/club/belgrano/salaries/2024/,weekly-avg,\"$4,596\"\n",
      ",https://www.capology.com/club/belgrano/salaries/2024/,annual-avg,\"$239,000\"\n",
      ",https://www.capology.com/club/boca-juniors/salaries/2024/,weekly-avg,\"$13,631\"\n",
      ",https://www.capology.com/club/boca-juniors/salaries/2024/,annual-avg,\"$708,824\"\n",
      ",https://www.capology.com/club/central-cordoba/salaries/2024/,weekly-avg,\"$3,099\"\n",
      ",https://www.capology.com/club/central-cordoba/salaries/2024/,annual-avg,\"$161,143\"\n",
      ",https://www.capology.com/club/defensa-y-justicia/salaries/2024/,weekly-avg,\"$3,784\"\n",
      ",https://www.capology.com/club/defensa-y-justicia/salaries/2024/,annual-avg,\"$196,774\"\n",
      ",https://www.capology.com/club/estudiantes/salaries/2024/,weekly-avg,\"$10,451\"\n",
      ",https://www.capology.com/club/estudiantes/salaries/2024/,annual-avg,\"$543,462\"\n",
      ",https://www.capology.com/club/gimnasia-la-plata/salaries/2024/,weekly-avg,\"$4,423\"\n",
      ",https://www.capology.com/club/gimnasia-la-plata/salaries/2024/,annual-avg,\"$230,000\"\n",
      ",https://www.capology.com/club/godoy-cruz/salaries/2024/,weekly-avg,\"$4,000\"\n",
      ",https://www.capology.com/club/godoy-cruz/salaries/2024/,annual-avg,\"$208,000\"\n",
      ",https://www.capology.com/club/huracan/salaries/2024/,weekly-avg,\"$6,026\"\n",
      ",https://www.capology.com/club/huracan/salaries/2024/,annual-avg,\"$313,333\"\n",
      ",https://www.capology.com/club/independiente/salaries/2024/,weekly-avg,\"$5,498\"\n",
      ",https://www.capology.com/club/independiente/salaries/2024/,annual-avg,\"$285,882\"\n",
      ",https://www.capology.com/club/instituto/salaries/2024/,weekly-avg,\"$4,731\"\n",
      ",https://www.capology.com/club/instituto/salaries/2024/,annual-avg,\"$246,000\"\n",
      ",https://www.capology.com/club/lanus/salaries/2024/,weekly-avg,\"$7,208\"\n",
      ",https://www.capology.com/club/lanus/salaries/2024/,annual-avg,\"$374,800\"\n",
      ",https://www.capology.com/club/newells-old-boys/salaries/2024/,weekly-avg,\"$5,570\"\n",
      ",https://www.capology.com/club/newells-old-boys/salaries/2024/,annual-avg,\"$289,615\"\n",
      ",https://www.capology.com/club/platense/salaries/2024/,weekly-avg,\"$3,347\"\n",
      ",https://www.capology.com/club/platense/salaries/2024/,annual-avg,\"$174,063\"\n",
      ",https://www.capology.com/club/racing-club/salaries/2024/,weekly-avg,\"$10,110\"\n",
      ",https://www.capology.com/club/racing-club/salaries/2024/,annual-avg,\"$525,714\"\n",
      ",https://www.capology.com/club/riestra/salaries/2024/,weekly-avg,\"$2,145\"\n",
      ",https://www.capology.com/club/riestra/salaries/2024/,annual-avg,\"$111,515\"\n",
      ",https://www.capology.com/club/rivadavia/salaries/2024/,weekly-avg,\"$2,849\"\n",
      ",https://www.capology.com/club/rivadavia/salaries/2024/,annual-avg,\"$148,125\"\n",
      ",https://www.capology.com/club/river-plate/salaries/2024/,weekly-avg,\"$18,993\"\n",
      ",https://www.capology.com/club/river-plate/salaries/2024/,annual-avg,\"$987,656\"\n",
      ",https://www.capology.com/club/rosario-central/salaries/2024/,weekly-avg,\"$6,147\"\n",
      ",https://www.capology.com/club/rosario-central/salaries/2024/,annual-avg,\"$319,655\"\n",
      ",https://www.capology.com/club/san-lorenzo/salaries/2024/,weekly-avg,\"$7,877\"\n",
      ",https://www.capology.com/club/san-lorenzo/salaries/2024/,annual-avg,\"$409,615\"\n",
      ",https://www.capology.com/club/sarmiento/salaries/2024/,weekly-avg,\"$4,572\"\n",
      ",https://www.capology.com/club/sarmiento/salaries/2024/,annual-avg,\"$237,742\"\n",
      ",https://www.capology.com/club/talleres/salaries/2024/,weekly-avg,\"$6,168\"\n",
      ",https://www.capology.com/club/talleres/salaries/2024/,annual-avg,\"$320,714\"\n",
      ",https://www.capology.com/club/tigre/salaries/2024/,weekly-avg,\"$3,906\"\n",
      ",https://www.capology.com/club/tigre/salaries/2024/,annual-avg,\"$203,103\"\n",
      ",https://www.capology.com/club/tucuman/salaries/2024/,weekly-avg,\"$3,661\"\n",
      ",https://www.capology.com/club/tucuman/salaries/2024/,annual-avg,\"$190,370\"\n",
      ",https://www.capology.com/club/union/salaries/2024/,weekly-avg,\"$4,371\"\n",
      ",https://www.capology.com/club/union/salaries/2024/,annual-avg,\"$227,308\"\n",
      ",https://www.capology.com/club/velez-sarsfield/salaries/2024/,weekly-avg,\"$10,371\"\n",
      ",https://www.capology.com/club/velez-sarsfield/salaries/2024/,annual-avg,\"$539,310\"\n",
      "\n"
     ]
    }
   ],
   "source": [
    "# Leer el archivo CSV en una variable como texto\n",
    "with open('club_salaries.csv', mode='r') as file:\n",
    "    text = file.read()\n",
    "\n",
    "# Ahora text es una variable que contiene el contenido del archivo CSV como un string\n",
    "print(text)\n"
   ]
  },
  {
   "cell_type": "code",
   "execution_count": 17,
   "metadata": {},
   "outputs": [
    {
     "name": "stdout",
     "output_type": "stream",
     "text": [
      "## Salarios de clubes de fútbol en Argentina (2024)\n",
      "\n",
      "| Club | Annual Avg | Weekly Avg |\n",
      "|---|---|---|\n",
      "| Argentinos Juniors | $181,724 | $3,495 |\n",
      "| Banfield | $171,935 | $3,306 |\n",
      "| Barracas | $181,000 | $3,481 |\n",
      "| Belgrano | $239,000 | $4,596 |\n",
      "| Boca Juniors | $708,824 | $13,631 |\n",
      "| Central Córdoba | $161,143 | $3,099 |\n",
      "| Defensa y Justicia | $196,774 | $3,784 |\n",
      "| Estudiantes | $543,462 | $10,451 |\n",
      "| Gimnasia La Plata | $230,000 | $4,423 |\n",
      "| Godoy Cruz | $208,000 | $4,000 |\n",
      "| Huracán | $313,333 | $6,026 |\n",
      "| Independiente | $285,882 | $5,498 |\n",
      "| Instituto | $246,000 | $4,731 |\n",
      "| Lanús | $374,800 | $7,208 |\n",
      "| Newell's Old Boys | $289,615 | $5,570 |\n",
      "| Platense | $174,063 | $3,347 |\n",
      "| Racing Club | $525,714 | $10,110 |\n",
      "| Riestra | $111,515 | $2,145 |\n",
      "| Rivadavia | $148,125 | $2,849 |\n",
      "| River Plate | $987,656 | $18,993 |\n",
      "| Rosario Central | $319,655 | $6,147 |\n",
      "| San Lorenzo | $409,615 | $7,877 |\n",
      "| Sarmiento | $237,742 | $4,572 |\n",
      "| Talleres | $320,714 | $6,168 |\n",
      "| Tigre | $203,103 | $3,906 |\n",
      "| Tucumán | $190,370 | $3,661 |\n",
      "| Unión | $227,308 | $4,371 |\n",
      "| Vélez Sarsfield | $539,310 | $10,371 | \n",
      "\n"
     ]
    }
   ],
   "source": [
    "\n",
    "# Prompt con el contexto y la pregunta\n",
    "prompt = f\"\"\"Quisiera que extraigas del siguiente texto: {text} la informacion relevante que te voy a explicar a continuacion:\n",
    "Debes colocar en una tabla en la primera columna el nombre del club que esta en el link del texto, en la segunda columna el valor numerico\n",
    "de annual-avg y en la tercer columna el valor numerico de weekly-avg, debes realizar esto con todos los clubes en el texto.\n",
    "Utiliza informacion unicamente contenida en este texto\"\"\"\n",
    "\n",
    "# Generar la respuesta utilizando el prompt actualizado\n",
    "responses = model.generate_content(prompt, generation_config=generation_config, stream=True)\n",
    "\n",
    "# Imprimir la respuesta generada\n",
    "full_text = \"\"\n",
    "for response in responses:\n",
    "    full_text += response.text\n",
    "\n",
    "print(full_text)"
   ]
  },
  {
   "cell_type": "code",
   "execution_count": 18,
   "metadata": {},
   "outputs": [
    {
     "name": "stdout",
     "output_type": "stream",
     "text": [
      "0                 Club Annual Avg Weekly Avg\n",
      "0   Argentinos Juniors   $181,724     $3,495\n",
      "1             Banfield   $171,935     $3,306\n",
      "2             Barracas   $181,000     $3,481\n",
      "3             Belgrano   $239,000     $4,596\n",
      "4         Boca Juniors   $708,824    $13,631\n",
      "5      Central Córdoba   $161,143     $3,099\n",
      "6   Defensa y Justicia   $196,774     $3,784\n",
      "7          Estudiantes   $543,462    $10,451\n",
      "8    Gimnasia La Plata   $230,000     $4,423\n",
      "9           Godoy Cruz   $208,000     $4,000\n",
      "10             Huracán   $313,333     $6,026\n",
      "11       Independiente   $285,882     $5,498\n",
      "12           Instituto   $246,000     $4,731\n",
      "13               Lanús   $374,800     $7,208\n",
      "14   Newell's Old Boys   $289,615     $5,570\n",
      "15            Platense   $174,063     $3,347\n",
      "16         Racing Club   $525,714    $10,110\n",
      "17             Riestra   $111,515     $2,145\n",
      "18           Rivadavia   $148,125     $2,849\n",
      "19         River Plate   $987,656    $18,993\n",
      "20     Rosario Central   $319,655     $6,147\n",
      "21         San Lorenzo   $409,615     $7,877\n",
      "22           Sarmiento   $237,742     $4,572\n",
      "23            Talleres   $320,714     $6,168\n",
      "24               Tigre   $203,103     $3,906\n",
      "25             Tucumán   $190,370     $3,661\n",
      "26               Unión   $227,308     $4,371\n",
      "27     Vélez Sarsfield   $539,310    $10,371\n"
     ]
    }
   ],
   "source": [
    "matches = re.findall(r'\\|\\s*(.*?)\\s*\\|\\s*(.*?)\\s*\\|\\s*(.*?)\\s*\\|', full_text)\n",
    "\n",
    "\n",
    "# Convierte los datos en un DataFrame de pandas y asigna las columnas correctamente\n",
    "df = pd.DataFrame(matches)#, columns=['Jugador', 'Percentil Prom Def', 'Percentil Prom Org', 'Rol Score'])\n",
    "\n",
    "df = df[~df.eq('---').all(axis=1)]\n",
    "df.columns = df.iloc[0]  # La primera fila se convierte en nombres de columna\n",
    "df = df[1:]\n",
    "# Resetea el índice\n",
    "df.reset_index(drop=True, inplace=True)\n",
    "\n",
    "print(df)"
   ]
  },
  {
   "cell_type": "code",
   "execution_count": 19,
   "metadata": {},
   "outputs": [],
   "source": [
    "from google.cloud import bigquery"
   ]
  },
  {
   "cell_type": "markdown",
   "metadata": {},
   "source": [
    "este seria el codigo equivalente para subir a bigquery pero no se si lo necesitamos aun"
   ]
  },
  {
   "cell_type": "code",
   "execution_count": 22,
   "metadata": {},
   "outputs": [
    {
     "ename": "ValueError",
     "evalue": "This method requires pyarrow to be installed",
     "output_type": "error",
     "traceback": [
      "\u001b[1;31m---------------------------------------------------------------------------\u001b[0m",
      "\u001b[1;31mValueError\u001b[0m                                Traceback (most recent call last)",
      "Cell \u001b[1;32mIn[22], line 16\u001b[0m\n\u001b[0;32m     11\u001b[0m job_config \u001b[38;5;241m=\u001b[39m bigquery\u001b[38;5;241m.\u001b[39mLoadJobConfig(\n\u001b[0;32m     12\u001b[0m     write_disposition\u001b[38;5;241m=\u001b[39mbigquery\u001b[38;5;241m.\u001b[39mWriteDisposition\u001b[38;5;241m.\u001b[39mWRITE_TRUNCATE,  \u001b[38;5;66;03m# Reemplaza la tabla si ya existe\u001b[39;00m\n\u001b[0;32m     13\u001b[0m )\n\u001b[0;32m     15\u001b[0m \u001b[38;5;66;03m# Guardar el DataFrame en BigQuery\u001b[39;00m\n\u001b[1;32m---> 16\u001b[0m job \u001b[38;5;241m=\u001b[39m \u001b[43mclient\u001b[49m\u001b[38;5;241;43m.\u001b[39;49m\u001b[43mload_table_from_dataframe\u001b[49m\u001b[43m(\u001b[49m\u001b[43mdf\u001b[49m\u001b[43m,\u001b[49m\u001b[43m \u001b[49m\u001b[43mtable_id\u001b[49m\u001b[43m,\u001b[49m\u001b[43m \u001b[49m\u001b[43mjob_config\u001b[49m\u001b[38;5;241;43m=\u001b[39;49m\u001b[43mjob_config\u001b[49m\u001b[43m)\u001b[49m\n\u001b[0;32m     17\u001b[0m job\u001b[38;5;241m.\u001b[39mresult()  \u001b[38;5;66;03m# Esperar a que el trabajo termine\u001b[39;00m\n\u001b[0;32m     19\u001b[0m \u001b[38;5;28mprint\u001b[39m(\u001b[38;5;124mf\u001b[39m\u001b[38;5;124m\"\u001b[39m\u001b[38;5;124mLos datos han sido cargados en la tabla \u001b[39m\u001b[38;5;132;01m{\u001b[39;00mtable_id\u001b[38;5;132;01m}\u001b[39;00m\u001b[38;5;124m.\u001b[39m\u001b[38;5;124m\"\u001b[39m)\n",
      "File \u001b[1;32mc:\\Users\\flori\\AppData\\Local\\Programs\\Python\\Python312\\Lib\\site-packages\\google\\cloud\\bigquery\\client.py:2742\u001b[0m, in \u001b[0;36mClient.load_table_from_dataframe\u001b[1;34m(self, dataframe, destination, num_retries, job_id, job_id_prefix, location, project, job_config, parquet_compression, timeout)\u001b[0m\n\u001b[0;32m   2734\u001b[0m     \u001b[38;5;28;01mraise\u001b[39;00m \u001b[38;5;167;01mValueError\u001b[39;00m(\n\u001b[0;32m   2735\u001b[0m         \u001b[38;5;124m\"\u001b[39m\u001b[38;5;124mGot unexpected source_format: \u001b[39m\u001b[38;5;124m'\u001b[39m\u001b[38;5;132;01m{}\u001b[39;00m\u001b[38;5;124m'\u001b[39m\u001b[38;5;124m. Currently, only PARQUET and CSV are supported\u001b[39m\u001b[38;5;124m\"\u001b[39m\u001b[38;5;241m.\u001b[39mformat(\n\u001b[0;32m   2736\u001b[0m             new_job_config\u001b[38;5;241m.\u001b[39msource_format\n\u001b[0;32m   2737\u001b[0m         )\n\u001b[0;32m   2738\u001b[0m     )\n\u001b[0;32m   2740\u001b[0m \u001b[38;5;28;01mif\u001b[39;00m pyarrow \u001b[38;5;129;01mis\u001b[39;00m \u001b[38;5;28;01mNone\u001b[39;00m \u001b[38;5;129;01mand\u001b[39;00m new_job_config\u001b[38;5;241m.\u001b[39msource_format \u001b[38;5;241m==\u001b[39m job\u001b[38;5;241m.\u001b[39mSourceFormat\u001b[38;5;241m.\u001b[39mPARQUET:\n\u001b[0;32m   2741\u001b[0m     \u001b[38;5;66;03m# pyarrow is now the only supported parquet engine.\u001b[39;00m\n\u001b[1;32m-> 2742\u001b[0m     \u001b[38;5;28;01mraise\u001b[39;00m \u001b[38;5;167;01mValueError\u001b[39;00m(\u001b[38;5;124m\"\u001b[39m\u001b[38;5;124mThis method requires pyarrow to be installed\u001b[39m\u001b[38;5;124m\"\u001b[39m)\n\u001b[0;32m   2744\u001b[0m \u001b[38;5;28;01mif\u001b[39;00m location \u001b[38;5;129;01mis\u001b[39;00m \u001b[38;5;28;01mNone\u001b[39;00m:\n\u001b[0;32m   2745\u001b[0m     location \u001b[38;5;241m=\u001b[39m \u001b[38;5;28mself\u001b[39m\u001b[38;5;241m.\u001b[39mlocation\n",
      "\u001b[1;31mValueError\u001b[0m: This method requires pyarrow to be installed"
     ]
    }
   ],
   "source": [
    "# Especifica tu ID de proyecto\n",
    "project_id = 'ldp-data-wyscout'\n",
    "\n",
    "# Crear un cliente de BigQuery con el proyecto especificado\n",
    "client = bigquery.Client(project=project_id)\n",
    "\n",
    "# Especificar la tabla de destino en el formato dataset.tabla\n",
    "table_id = 'ldp-data-wyscout.capology.primera_division'\n",
    "\n",
    "# Configurar la carga de datos\n",
    "job_config = bigquery.LoadJobConfig(\n",
    "    write_disposition=bigquery.WriteDisposition.WRITE_TRUNCATE,  # Reemplaza la tabla si ya existe\n",
    ")\n",
    "\n",
    "# Guardar el DataFrame en BigQuery\n",
    "job = client.load_table_from_dataframe(df, table_id, job_config=job_config)\n",
    "job.result()  # Esperar a que el trabajo termine\n",
    "\n",
    "print(f\"Los datos han sido cargados en la tabla {table_id}.\")"
   ]
  }
 ],
 "metadata": {
  "kernelspec": {
   "display_name": "Python 3",
   "language": "python",
   "name": "python3"
  },
  "language_info": {
   "codemirror_mode": {
    "name": "ipython",
    "version": 3
   },
   "file_extension": ".py",
   "mimetype": "text/x-python",
   "name": "python",
   "nbconvert_exporter": "python",
   "pygments_lexer": "ipython3",
   "version": "3.12.5"
  }
 },
 "nbformat": 4,
 "nbformat_minor": 2
}
