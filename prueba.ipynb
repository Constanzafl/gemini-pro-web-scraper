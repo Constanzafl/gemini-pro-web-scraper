{
 "cells": [
  {
   "cell_type": "code",
   "execution_count": 2,
   "metadata": {},
   "outputs": [
    {
     "name": "stdout",
     "output_type": "stream",
     "text": [
      "\n"
     ]
    }
   ],
   "source": [
    "import requests\n",
    "from bs4 import BeautifulSoup\n",
    "\n",
    "def scrape_capology(url):\n",
    "    response = requests.get(url)\n",
    "    response.raise_for_status()  # Raise an exception for bad status codes\n",
    "\n",
    "    soup = BeautifulSoup(response.content, 'html.parser')\n",
    "\n",
    "    # Encuentra el elemento por id\n",
    "    weekly_payroll_element = soup.find('h1', id='weekly-payroll')\n",
    "    \n",
    "    if weekly_payroll_element:\n",
    "        weekly_avg = weekly_payroll_element.text.strip()\n",
    "        return weekly_avg\n",
    "    else:\n",
    "        return \"Elemento no encontrado\"\n",
    "\n",
    "# URL de ejemplo\n",
    "url = 'https://www.capology.com/club/belgrano/salaries/2024/'\n",
    "weekly_avg = scrape_capology(url)\n",
    "print(weekly_avg)"
   ]
  },
  {
   "cell_type": "code",
   "execution_count": 3,
   "metadata": {},
   "outputs": [
    {
     "name": "stdout",
     "output_type": "stream",
     "text": [
      "Belgrano (Primera Division) Total Gross Salaries for the 2024 Season is $7,170,000, or $137,885 per week. The Highest Paid Player at Belgrano is Esteban Rolón (Defensive Midfield), who is 29 years old.\n"
     ]
    }
   ],
   "source": [
    "import requests\n",
    "from bs4 import BeautifulSoup\n",
    "\n",
    "def scrape_capology(url):\n",
    "    try:\n",
    "        response = requests.get(url)\n",
    "        response.raise_for_status()  # Raise an exception for bad status codes\n",
    "\n",
    "        soup = BeautifulSoup(response.content, 'html.parser')\n",
    "\n",
    "        # Encuentra el elemento usando el selector CSS\n",
    "        element = soup.select_one('#panel > div.content-block > div.row > div:nth-child(2) > div:nth-child(2) > div > h6:nth-child(2)')\n",
    "        \n",
    "        if element:\n",
    "            value = element.text.strip()\n",
    "            return value\n",
    "        else:\n",
    "            return \"Elemento no encontrado\"\n",
    "\n",
    "    except requests.exceptions.RequestException as e:\n",
    "        return f\"Error en la solicitud: {e}\"\n",
    "\n",
    "# URL de ejemplo\n",
    "url = 'https://www.capology.com/club/belgrano/salaries/2024/'\n",
    "value = scrape_capology(url)\n",
    "print(value)\n"
   ]
  },
  {
   "cell_type": "code",
   "execution_count": 4,
   "metadata": {},
   "outputs": [
    {
     "name": "stdout",
     "output_type": "stream",
     "text": [
      "\n"
     ]
    }
   ],
   "source": [
    "import requests\n",
    "from bs4 import BeautifulSoup\n",
    "\n",
    "def scrape_capology(url):\n",
    "    try:\n",
    "        response = requests.get(url)\n",
    "        response.raise_for_status()  # Raise an exception for bad status codes\n",
    "\n",
    "        soup = BeautifulSoup(response.content, 'html.parser')\n",
    "\n",
    "        # Encuentra el elemento por id\n",
    "        weekly_avg_element = soup.find(id='weekly-avg')\n",
    "        \n",
    "        if weekly_avg_element:\n",
    "            value = weekly_avg_element.text.strip()\n",
    "            return value\n",
    "        else:\n",
    "            return \"Elemento no encontrado\"\n",
    "\n",
    "    except requests.exceptions.RequestException as e:\n",
    "        return f\"Error en la solicitud: {e}\"\n",
    "\n",
    "# URL de ejemplo\n",
    "url = 'https://www.capology.com/club/belgrano/salaries/2024/'\n",
    "value = scrape_capology(url)\n",
    "print(value)\n"
   ]
  },
  {
   "cell_type": "code",
   "execution_count": 1,
   "metadata": {},
   "outputs": [
    {
     "name": "stdout",
     "output_type": "stream",
     "text": [
      "$4,596\n"
     ]
    }
   ],
   "source": [
    "from selenium import webdriver\n",
    "from selenium.webdriver.chrome.service import Service\n",
    "from selenium.webdriver.chrome.options import Options\n",
    "from selenium.webdriver.common.by import By\n",
    "import time\n",
    "\n",
    "# Configuración del navegador (Asegúrate de tener ChromeDriver instalado)\n",
    "chrome_options = Options()\n",
    "chrome_options.add_argument(\"--headless\")  # Ejecuta el navegador en segundo plano\n",
    "service = Service('C:/chromedriver/chromedriver-win64/chromedriver.exe')  # Actualiza la ruta a tu chromedriver\n",
    "driver = webdriver.Chrome(service=service, options=chrome_options)\n",
    "\n",
    "def scrape_capology(url):\n",
    "    try:\n",
    "        driver.get(url)\n",
    "        time.sleep(5)  # Espera a que el contenido se cargue\n",
    "        \n",
    "        # Encuentra el elemento por id usando Selenium\n",
    "        element = driver.find_element(By.ID, 'weekly-avg')\n",
    "        \n",
    "        if element:\n",
    "            value = element.text.strip()\n",
    "            return value\n",
    "        else:\n",
    "            return \"Elemento no encontrado\"\n",
    "\n",
    "    except Exception as e:\n",
    "        return f\"Error: {e}\"\n",
    "\n",
    "# URL de ejemplo\n",
    "url = 'https://www.capology.com/club/belgrano/salaries/2024/'\n",
    "value = scrape_capology(url)\n",
    "print(value)\n",
    "\n",
    "driver.quit()\n"
   ]
  },
  {
   "cell_type": "code",
   "execution_count": 2,
   "metadata": {},
   "outputs": [
    {
     "name": "stdout",
     "output_type": "stream",
     "text": [
      "$239,000\n"
     ]
    }
   ],
   "source": [
    "from selenium import webdriver\n",
    "from selenium.webdriver.chrome.service import Service\n",
    "from selenium.webdriver.chrome.options import Options\n",
    "from selenium.webdriver.common.by import By\n",
    "import time\n",
    "\n",
    "# Configuración del navegador (Asegúrate de tener ChromeDriver instalado)\n",
    "chrome_options = Options()\n",
    "chrome_options.add_argument(\"--headless\")  # Ejecuta el navegador en segundo plano\n",
    "service = Service('C:/chromedriver/chromedriver-win64/chromedriver.exe')  # Actualiza la ruta a tu chromedriver\n",
    "driver = webdriver.Chrome(service=service, options=chrome_options)\n",
    "\n",
    "def scrape_capology(url):\n",
    "    try:\n",
    "        driver.get(url)\n",
    "        time.sleep(5)  # Espera a que el contenido se cargue\n",
    "        \n",
    "        # Encuentra el elemento por id usando Selenium\n",
    "        element = driver.find_element(By.ID, 'annual-avg')\n",
    "        \n",
    "        if element:\n",
    "            value = element.text.strip()\n",
    "            return value\n",
    "        else:\n",
    "            return \"Elemento no encontrado\"\n",
    "\n",
    "    except Exception as e:\n",
    "        return f\"Error: {e}\"\n",
    "\n",
    "# URL de ejemplo\n",
    "url = 'https://www.capology.com/club/belgrano/salaries/2024/'\n",
    "value = scrape_capology(url)\n",
    "print(value)\n",
    "\n",
    "driver.quit()"
   ]
  }
 ],
 "metadata": {
  "kernelspec": {
   "display_name": "Python 3",
   "language": "python",
   "name": "python3"
  },
  "language_info": {
   "codemirror_mode": {
    "name": "ipython",
    "version": 3
   },
   "file_extension": ".py",
   "mimetype": "text/x-python",
   "name": "python",
   "nbconvert_exporter": "python",
   "pygments_lexer": "ipython3",
   "version": "3.11.9"
  }
 },
 "nbformat": 4,
 "nbformat_minor": 2
}
